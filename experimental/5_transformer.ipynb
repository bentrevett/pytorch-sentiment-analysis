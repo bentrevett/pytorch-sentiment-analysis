{
 "cells": [
  {
   "cell_type": "code",
   "execution_count": 1,
   "metadata": {
    "colab": {
     "base_uri": "https://localhost:8080/",
     "height": 228
    },
    "colab_type": "code",
    "id": "lIYdn1woOS1n",
    "outputId": "0e6cb755-1903-417a-8d37-a33ccb613ed6"
   },
   "outputs": [],
   "source": [
    "import torch\n",
    "import torch.nn as nn\n",
    "import torch.nn.functional as F\n",
    "import torch.optim as optim\n",
    "\n",
    "import torchtext\n",
    "import torchtext.experimental\n",
    "import torchtext.experimental.vectors\n",
    "from torchtext.experimental.datasets.raw.text_classification import RawTextIterableDataset\n",
    "from torchtext.experimental.datasets.text_classification import TextClassificationDataset\n",
    "from torchtext.experimental.functional import sequential_transforms, vocab_func, totensor\n",
    "\n",
    "import matplotlib.pyplot as plt\n",
    "\n",
    "import collections\n",
    "import copy\n",
    "import random\n",
    "import time"
   ]
  },
  {
   "cell_type": "code",
   "execution_count": 2,
   "metadata": {
    "colab": {},
    "colab_type": "code",
    "id": "7w0Fqtf5bosU"
   },
   "outputs": [],
   "source": [
    "seed = 1234\n",
    "\n",
    "torch.manual_seed(seed)\n",
    "random.seed(seed)\n",
    "torch.backends.cudnn.deterministic = True\n",
    "torch.backends.cudnn.benchmark = False"
   ]
  },
  {
   "cell_type": "code",
   "execution_count": 3,
   "metadata": {
    "colab": {},
    "colab_type": "code",
    "id": "COPd0_YIbp6G"
   },
   "outputs": [],
   "source": [
    "raw_train_data, raw_test_data = torchtext.experimental.datasets.raw.IMDB()"
   ]
  },
  {
   "cell_type": "code",
   "execution_count": 4,
   "metadata": {},
   "outputs": [],
   "source": [
    "raw_train_data = list(raw_train_data)\n",
    "raw_test_data = list(raw_test_data)"
   ]
  },
  {
   "cell_type": "code",
   "execution_count": 5,
   "metadata": {
    "colab": {},
    "colab_type": "code",
    "id": "sqImRLskbrAd"
   },
   "outputs": [],
   "source": [
    "def get_train_valid_split(raw_train_data, split_ratio = 0.7):\n",
    "        \n",
    "    random.shuffle(raw_train_data)\n",
    "        \n",
    "    n_train_examples = int(len(raw_train_data) * split_ratio)\n",
    "        \n",
    "    train_data = raw_train_data[:n_train_examples]\n",
    "    valid_data = raw_train_data[n_train_examples:]\n",
    "    \n",
    "    return train_data, valid_data"
   ]
  },
  {
   "cell_type": "code",
   "execution_count": 6,
   "metadata": {
    "colab": {},
    "colab_type": "code",
    "id": "YgKzkSjibsCh"
   },
   "outputs": [],
   "source": [
    "raw_train_data, raw_valid_data = get_train_valid_split(raw_train_data)"
   ]
  },
  {
   "cell_type": "code",
   "execution_count": 7,
   "metadata": {
    "colab": {},
    "colab_type": "code",
    "id": "Yh1olQ-EbtLT"
   },
   "outputs": [],
   "source": [
    "class Tokenizer:\n",
    "    def __init__(self, tokenize_fn = 'basic_english', lower = True, max_length = None, sos_token = None):\n",
    "        \n",
    "        self.tokenize_fn = torchtext.data.utils.get_tokenizer(tokenize_fn)\n",
    "        self.lower = lower\n",
    "        self.max_length = max_length\n",
    "        self.sos_token = sos_token\n",
    "        \n",
    "    def tokenize(self, s):\n",
    "        \n",
    "        tokens = self.tokenize_fn(s)\n",
    "        \n",
    "        if self.lower:\n",
    "            tokens = [token.lower() for token in tokens]\n",
    "            \n",
    "        if self.sos_token is not None:\n",
    "            tokens = [self.sos_token] + tokens\n",
    "\n",
    "        if self.max_length is not None:\n",
    "            tokens = tokens[:self.max_length]\n",
    "            \n",
    "        return tokens"
   ]
  },
  {
   "cell_type": "code",
   "execution_count": 8,
   "metadata": {
    "colab": {},
    "colab_type": "code",
    "id": "hEKZjV-PbuMk"
   },
   "outputs": [],
   "source": [
    "max_length = 250\n",
    "sos_token = '<sos>'\n",
    "\n",
    "tokenizer = Tokenizer(max_length = max_length, sos_token = sos_token)"
   ]
  },
  {
   "cell_type": "code",
   "execution_count": 9,
   "metadata": {
    "colab": {
     "base_uri": "https://localhost:8080/",
     "height": 35
    },
    "colab_type": "code",
    "id": "YMpskDMRoBOT",
    "outputId": "68995c90-d409-432a-9ed3-4614244b23bc"
   },
   "outputs": [
    {
     "data": {
      "text/plain": [
       "['<sos>', 'hello', 'world', ',', 'how', 'are', 'you', '?']"
      ]
     },
     "execution_count": 9,
     "metadata": {},
     "output_type": "execute_result"
    }
   ],
   "source": [
    "s = \"hello world, how are you?\"\n",
    "\n",
    "tokenizer.tokenize(s)"
   ]
  },
  {
   "cell_type": "code",
   "execution_count": 10,
   "metadata": {
    "colab": {},
    "colab_type": "code",
    "id": "DQx6B6JQbvSU"
   },
   "outputs": [],
   "source": [
    "def build_vocab_from_data(raw_data, tokenizer, **vocab_kwargs):\n",
    "        \n",
    "    token_freqs = collections.Counter()\n",
    "    \n",
    "    for label, text in raw_data:\n",
    "        tokens = tokenizer.tokenize(text)\n",
    "        token_freqs.update(tokens)\n",
    "                \n",
    "    vocab = torchtext.vocab.Vocab(token_freqs, **vocab_kwargs)\n",
    "    \n",
    "    return vocab"
   ]
  },
  {
   "cell_type": "code",
   "execution_count": 11,
   "metadata": {
    "colab": {},
    "colab_type": "code",
    "id": "unWu0DuZbwVB"
   },
   "outputs": [],
   "source": [
    "max_size = 25_000\n",
    "\n",
    "vocab = build_vocab_from_data(raw_train_data, \n",
    "                              tokenizer, \n",
    "                              max_size = max_size)"
   ]
  },
  {
   "cell_type": "code",
   "execution_count": 12,
   "metadata": {},
   "outputs": [
    {
     "name": "stdout",
     "output_type": "stream",
     "text": [
      "Unique tokens in vocab: 25,002\n"
     ]
    }
   ],
   "source": [
    "print(f'Unique tokens in vocab: {len(vocab):,}')"
   ]
  },
  {
   "cell_type": "code",
   "execution_count": 13,
   "metadata": {
    "colab": {},
    "colab_type": "code",
    "id": "zOi2KdeebxZP"
   },
   "outputs": [],
   "source": [
    "def raw_data_to_dataset(raw_data, tokenizer, vocab):\n",
    "        \n",
    "    text_transform = sequential_transforms(tokenizer.tokenize,\n",
    "                                           vocab_func(vocab),\n",
    "                                           totensor(dtype=torch.long))\n",
    "    \n",
    "    label_transform = sequential_transforms(lambda x: 1 if x == 'pos' else 0, \n",
    "                                            totensor(dtype=torch.long))\n",
    "\n",
    "    transforms = (label_transform, text_transform)\n",
    "\n",
    "    dataset = TextClassificationDataset(raw_data,\n",
    "                                        vocab,\n",
    "                                        transforms)\n",
    "    \n",
    "    return dataset"
   ]
  },
  {
   "cell_type": "code",
   "execution_count": 14,
   "metadata": {
    "colab": {},
    "colab_type": "code",
    "id": "zSodj_hBbzVk"
   },
   "outputs": [],
   "source": [
    "train_data = raw_data_to_dataset(raw_train_data, tokenizer, vocab)\n",
    "valid_data = raw_data_to_dataset(raw_valid_data, tokenizer, vocab)\n",
    "test_data = raw_data_to_dataset(raw_test_data, tokenizer, vocab)"
   ]
  },
  {
   "cell_type": "code",
   "execution_count": 15,
   "metadata": {},
   "outputs": [
    {
     "name": "stdout",
     "output_type": "stream",
     "text": [
      "Number of training examples: 17,500\n",
      "Number of validation examples: 7,500\n",
      "Number of testing examples: 25,000\n"
     ]
    }
   ],
   "source": [
    "print(f'Number of training examples: {len(train_data):,}')\n",
    "print(f'Number of validation examples: {len(valid_data):,}')\n",
    "print(f'Number of testing examples: {len(test_data):,}')"
   ]
  },
  {
   "cell_type": "code",
   "execution_count": 16,
   "metadata": {
    "colab": {},
    "colab_type": "code",
    "id": "c_KIBjr4b2ks"
   },
   "outputs": [],
   "source": [
    "class Collator:\n",
    "    def __init__(self, pad_idx, batch_first):\n",
    "        \n",
    "        self.pad_idx = pad_idx\n",
    "        self.batch_first = batch_first\n",
    "        \n",
    "    def collate(self, batch):\n",
    "        \n",
    "        labels, text = zip(*batch)\n",
    "        \n",
    "        labels = torch.LongTensor(labels)\n",
    "\n",
    "        text = nn.utils.rnn.pad_sequence(text, \n",
    "                                         padding_value = self.pad_idx,\n",
    "                                         batch_first = self.batch_first)\n",
    "        \n",
    "        return labels, text"
   ]
  },
  {
   "cell_type": "code",
   "execution_count": 17,
   "metadata": {
    "colab": {},
    "colab_type": "code",
    "id": "i6j7fcFYb354"
   },
   "outputs": [],
   "source": [
    "pad_token = '<pad>'\n",
    "pad_idx = vocab[pad_token]\n",
    "batch_first = False\n",
    "\n",
    "collator = Collator(pad_idx, batch_first)"
   ]
  },
  {
   "cell_type": "code",
   "execution_count": 18,
   "metadata": {
    "colab": {},
    "colab_type": "code",
    "id": "FCyc9S85b5jd"
   },
   "outputs": [],
   "source": [
    "batch_size = 256\n",
    "\n",
    "train_iterator = torch.utils.data.DataLoader(train_data, \n",
    "                                             batch_size, \n",
    "                                             shuffle = True, \n",
    "                                             collate_fn = collator.collate)\n",
    "\n",
    "valid_iterator = torch.utils.data.DataLoader(valid_data, \n",
    "                                             batch_size, \n",
    "                                             shuffle = False, \n",
    "                                             collate_fn = collator.collate)\n",
    "\n",
    "test_iterator = torch.utils.data.DataLoader(test_data, \n",
    "                                            batch_size, \n",
    "                                            shuffle = False, \n",
    "                                            collate_fn = collator.collate)"
   ]
  },
  {
   "cell_type": "code",
   "execution_count": 19,
   "metadata": {
    "colab": {},
    "colab_type": "code",
    "id": "ajddJOkZb7xe"
   },
   "outputs": [],
   "source": [
    "class DefaultTransformer(nn.Module):\n",
    "    def __init__(self, input_dim, emb_dim, n_heads, hid_dim, n_layers, output_dim, dropout, max_length, pad_idx):\n",
    "        super().__init__()\n",
    "\n",
    "        self.tok_embedding = nn.Embedding(input_dim, emb_dim, padding_idx = pad_idx)\n",
    "        self.pos_embedding = nn.Embedding(max_length, emb_dim)\n",
    "        self.layer_norm = nn.LayerNorm(emb_dim)\n",
    "        transformer_layer = nn.TransformerEncoderLayer(emb_dim, n_heads, hid_dim, activation = 'gelu')\n",
    "        norm = nn.LayerNorm(emb_dim)\n",
    "        self.transformer = nn.TransformerEncoder(transformer_layer, n_layers, norm)\n",
    "        self.fc = nn.Linear(emb_dim, output_dim)\n",
    "        self.dropout = nn.Dropout(dropout)\n",
    "\n",
    "    def forward(self, text):\n",
    "\n",
    "        # text = [seq len, batch size]\n",
    "\n",
    "        seq_len, batch_size = text.shape\n",
    "        \n",
    "        pos = torch.arange(0, seq_len).unsqueeze(-1).repeat(1, batch_size).to(text.device)\n",
    "        \n",
    "        # pos = [seq len, batch size]\n",
    "        \n",
    "        embedded_pos = self.pos_embedding(pos)\n",
    "        embedded_tok = self.tok_embedding(text)\n",
    "        \n",
    "        embedded = self.dropout(embedded_pos + embedded_tok)\n",
    "\n",
    "        # embedded = [seq len, batch size, emb dim]\n",
    "\n",
    "        emedded = self.layer_norm(embedded)\n",
    "        \n",
    "        # embedded = [seq len, batch size, emb dim]\n",
    "        \n",
    "        transformed = self.transformer(embedded)\n",
    "\n",
    "        # transformed = [seq len, batch size, emb dim]\n",
    "\n",
    "        sos_transformed = transformed[0]\n",
    "\n",
    "        # sos_transformed = [batch size, emb dim]\n",
    "\n",
    "        prediction = self.fc(self.dropout(sos_transformed))\n",
    "\n",
    "        # prediction = [batch size, output dim]\n",
    "\n",
    "        return prediction"
   ]
  },
  {
   "cell_type": "code",
   "execution_count": 20,
   "metadata": {},
   "outputs": [],
   "source": [
    "class TransformerEncoder(nn.Module):\n",
    "    def __init__(self, encoder_layer, n_layers, norm = None):\n",
    "        super().__init__()\n",
    "        \n",
    "        self.encoder_layers = nn.ModuleList([copy.deepcopy(encoder_layer) \n",
    "                                             for _ in range(n_layers)])\n",
    "        self.norm = norm\n",
    "        \n",
    "    def forward(self, embedded):\n",
    "        \n",
    "        # embedded = [seq len, batch size, emb dim]\n",
    "        \n",
    "        for layer in self.encoder_layers:\n",
    "            embedded, attention = layer(embedded)\n",
    "            \n",
    "        # embedded = [seq len, batch size, emb dim]\n",
    "            \n",
    "        if self.norm is not None:\n",
    "            embedded = self.norm(embedded)\n",
    "        \n",
    "        # embedded = [seq len, batch size, emb dim]\n",
    "        \n",
    "        return embedded, attention"
   ]
  },
  {
   "cell_type": "code",
   "execution_count": 21,
   "metadata": {},
   "outputs": [],
   "source": [
    "class TransformerEncoderLayer(nn.Module):\n",
    "    def __init__(self, emb_dim, ff_layer, attention_layer, dropout):\n",
    "        super().__init__()\n",
    "        \n",
    "        self.attention_layer = attention_layer\n",
    "        self.ff_layer = ff_layer\n",
    "        self.layer_norm_1 = nn.LayerNorm(emb_dim)\n",
    "        self.layer_norm_2 = nn.LayerNorm(emb_dim)\n",
    "        self.dropout = nn.Dropout(dropout)\n",
    "        \n",
    "    def forward(self, embedded):\n",
    "        \n",
    "        _embedded, attention = self.attention_layer(embedded, embedded, embedded)\n",
    "        embedded = embedded + self.dropout(_embedded)\n",
    "        embedded = self.layer_norm_1(embedded)\n",
    "        _embedded = self.ff_layer(embedded)\n",
    "        embedded = embedded + self.dropout(_embedded)\n",
    "        embedded = self.layer_norm_2(embedded)\n",
    "        \n",
    "        return embedded, attention"
   ]
  },
  {
   "cell_type": "code",
   "execution_count": 22,
   "metadata": {},
   "outputs": [],
   "source": [
    "class MultiHeadAttentionLayer(nn.Module):\n",
    "    def __init__(self, emb_dim, n_heads, dropout):\n",
    "        super().__init__()\n",
    "        \n",
    "        assert emb_dim % n_heads == 0\n",
    "        \n",
    "        self.n_heads = n_heads\n",
    "        self.head_dim = emb_dim // n_heads\n",
    "        \n",
    "        self.fc_q = nn.Linear(emb_dim, emb_dim)\n",
    "        self.fc_k = nn.Linear(emb_dim, emb_dim)\n",
    "        self.fc_v = nn.Linear(emb_dim, emb_dim)\n",
    "        self.fc_o = nn.Linear(emb_dim, emb_dim)\n",
    "        self.dropout = nn.Dropout(dropout)\n",
    "        \n",
    "        self.scale = self.head_dim ** -0.5\n",
    "        \n",
    "    def forward(self, query, key, value):\n",
    "        \n",
    "        # query/key/value = [seq len, batch size, emb dim]\n",
    "        \n",
    "        seq_len, batch_size, emb_dim = query.shape\n",
    "        \n",
    "        Q = self.fc_q(query)\n",
    "        K = self.fc_k(key)\n",
    "        V = self.fc_v(value)\n",
    "        \n",
    "        # Q/K/V = [seq len, batch size, emb dim]\n",
    "        \n",
    "        Q = Q.view(seq_len, batch_size, self.n_heads, self.head_dim)\n",
    "        K = K.view(seq_len, batch_size, self.n_heads, self.head_dim)\n",
    "        V = V.view(seq_len, batch_size, self.n_heads, self.head_dim)\n",
    "        \n",
    "        # Q/K/V = [seq len, batch size, n heads, head dim]\n",
    "        \n",
    "        Q = Q.permute(1, 2, 0, 3)\n",
    "        K = K.permute(1, 2, 0, 3)\n",
    "        V = V.permute(1, 2, 0, 3)\n",
    "        \n",
    "        # Q/K/V = [batch size, n heads, seq len, head dim]\n",
    "        \n",
    "        energy = torch.matmul(Q, K.permute(0, 1, 3, 2)) * self.scale\n",
    "        \n",
    "        # energy = [batch size, n heads, seq len, seq len]\n",
    "        \n",
    "        attention = torch.softmax(energy, dim = -1)\n",
    "        \n",
    "        # attention = [batch size, n heads, seq len, seq len]\n",
    "        \n",
    "        x = torch.matmul(self.dropout(attention), V)\n",
    "        \n",
    "        # x = [batch size, n heads, seq len, head dim]\n",
    "        \n",
    "        x = x.permute(2, 0, 1, 3).contiguous()\n",
    "        \n",
    "        # x = [seq len, batch size, n heads, head dim]\n",
    "        \n",
    "        x = x.view(seq_len, batch_size, emb_dim)\n",
    "        \n",
    "        # x = [seq len, batch size, emb dim]\n",
    "        \n",
    "        x = self.fc_o(x)\n",
    "        \n",
    "        # x = [seq len, batch size, emb dim]\n",
    "        \n",
    "        return x, attention"
   ]
  },
  {
   "cell_type": "code",
   "execution_count": 23,
   "metadata": {},
   "outputs": [],
   "source": [
    "class FeedForwardLayer(nn.Module):\n",
    "    def __init__(self, emb_dim, hid_dim, activation, dropout):\n",
    "        super().__init__()\n",
    "        \n",
    "        self.fc_1 = nn.Linear(emb_dim, hid_dim)\n",
    "        self.fc_2 = nn.Linear(hid_dim, emb_dim)\n",
    "        self.activation = activation\n",
    "        self.dropout = nn.Dropout(dropout)\n",
    "        \n",
    "    def forward(self, embedded):\n",
    "        \n",
    "        # embedded = [seq len, batch size, emb dim]\n",
    "        \n",
    "        embedded = self.dropout(self.activation(self.fc_1(embedded)))\n",
    "        \n",
    "        # embedded = [seq len, batch size, hid dim]\n",
    "        \n",
    "        embedded = self.fc_2(embedded)\n",
    "        \n",
    "        # embedded = [seq len, batch size, emb dim]\n",
    "        \n",
    "        return embedded"
   ]
  },
  {
   "cell_type": "code",
   "execution_count": 24,
   "metadata": {},
   "outputs": [],
   "source": [
    "class Transformer(nn.Module):\n",
    "    def __init__(self, input_dim, emb_dim, encoder, output_dim, dropout, max_length, pad_idx):\n",
    "        super().__init__()\n",
    "\n",
    "        self.tok_embedding = nn.Embedding(input_dim, emb_dim, padding_idx = pad_idx)\n",
    "        self.pos_embedding = nn.Embedding(max_length, emb_dim)\n",
    "        self.layer_norm = nn.LayerNorm(emb_dim)\n",
    "        self.encoder = encoder\n",
    "        self.fc = nn.Linear(emb_dim, output_dim)\n",
    "        self.dropout = nn.Dropout(dropout)\n",
    "\n",
    "    def forward(self, text):\n",
    "\n",
    "        # text = [seq len, batch size]\n",
    "\n",
    "        seq_len, batch_size = text.shape\n",
    "        \n",
    "        pos = torch.arange(0, seq_len).unsqueeze(-1).repeat(1, batch_size).to(text.device)\n",
    "        \n",
    "        # pos = [seq len, batch size]\n",
    "        \n",
    "        embedded_pos = self.pos_embedding(pos)\n",
    "        embedded_tok = self.tok_embedding(text)\n",
    "        \n",
    "        embedded = self.dropout(embedded_pos + embedded_tok)\n",
    "\n",
    "        # embedded = [seq len, batch size, emb dim]\n",
    "\n",
    "        emedded = self.layer_norm(embedded)\n",
    "        \n",
    "        # embedded = [seq len, batch size, emb dim]\n",
    "        \n",
    "        encoded, attention = self.encoder(embedded)\n",
    "\n",
    "        # encoded = [seq len, batch size, emb dim]\n",
    "\n",
    "        sos_encoded = encoded[0]\n",
    "\n",
    "        # sos_encoded = [batch size, emb dim]\n",
    "\n",
    "        prediction = self.fc(self.dropout(sos_encoded))\n",
    "\n",
    "        # prediction = [batch size, output dim]\n",
    "\n",
    "        return prediction, attention"
   ]
  },
  {
   "cell_type": "code",
   "execution_count": 25,
   "metadata": {},
   "outputs": [],
   "source": [
    "input_dim = len(vocab)\n",
    "emb_dim = 100\n",
    "n_heads = 10\n",
    "hid_dim = 1024\n",
    "n_layers = 3\n",
    "output_dim = 2\n",
    "dropout = 0.1\n",
    "pad_idx = pad_idx\n",
    "ff_layer_activation = F.gelu\n",
    "encoder_norm = nn.LayerNorm(emb_dim)\n",
    "\n",
    "ff_layer = FeedForwardLayer(emb_dim, hid_dim, ff_layer_activation, dropout)\n",
    "attention_layer = MultiHeadAttentionLayer(emb_dim, n_heads, dropout)\n",
    "transformer_layer = TransformerEncoderLayer(emb_dim, ff_layer, attention_layer, dropout)\n",
    "transformer_encoder = TransformerEncoder(transformer_layer, n_layers, encoder_norm)\n",
    "model = Transformer(input_dim, emb_dim, transformer_encoder, output_dim, dropout, max_length, pad_idx)"
   ]
  },
  {
   "cell_type": "code",
   "execution_count": 26,
   "metadata": {
    "colab": {},
    "colab_type": "code",
    "id": "Kubq6Vkjfec_"
   },
   "outputs": [],
   "source": [
    "def count_parameters(model):\n",
    "    return sum(p.numel() for p in model.parameters() if p.requires_grad)"
   ]
  },
  {
   "cell_type": "code",
   "execution_count": 27,
   "metadata": {
    "colab": {
     "base_uri": "https://localhost:8080/",
     "height": 35
    },
    "colab_type": "code",
    "id": "TPaxqpJMf0-6",
    "outputId": "4db6b90c-b273-4c94-c12d-4f68be8e1477"
   },
   "outputs": [
    {
     "name": "stdout",
     "output_type": "stream",
     "text": [
      "The model has 3,265,974 trainable parameters\n"
     ]
    }
   ],
   "source": [
    "print(f'The model has {count_parameters(model):,} trainable parameters')"
   ]
  },
  {
   "cell_type": "code",
   "execution_count": 28,
   "metadata": {},
   "outputs": [
    {
     "name": "stdout",
     "output_type": "stream",
     "text": [
      "name: tok_embedding.weight, shape: torch.Size([25002, 100])\n",
      "name: pos_embedding.weight, shape: torch.Size([250, 100])\n",
      "name: layer_norm.weight, shape: torch.Size([100])\n",
      "name: layer_norm.bias, shape: torch.Size([100])\n",
      "name: encoder.encoder_layers.0.attention_layer.fc_q.weight, shape: torch.Size([100, 100])\n",
      "name: encoder.encoder_layers.0.attention_layer.fc_q.bias, shape: torch.Size([100])\n",
      "name: encoder.encoder_layers.0.attention_layer.fc_k.weight, shape: torch.Size([100, 100])\n",
      "name: encoder.encoder_layers.0.attention_layer.fc_k.bias, shape: torch.Size([100])\n",
      "name: encoder.encoder_layers.0.attention_layer.fc_v.weight, shape: torch.Size([100, 100])\n",
      "name: encoder.encoder_layers.0.attention_layer.fc_v.bias, shape: torch.Size([100])\n",
      "name: encoder.encoder_layers.0.attention_layer.fc_o.weight, shape: torch.Size([100, 100])\n",
      "name: encoder.encoder_layers.0.attention_layer.fc_o.bias, shape: torch.Size([100])\n",
      "name: encoder.encoder_layers.0.ff_layer.fc_1.weight, shape: torch.Size([1024, 100])\n",
      "name: encoder.encoder_layers.0.ff_layer.fc_1.bias, shape: torch.Size([1024])\n",
      "name: encoder.encoder_layers.0.ff_layer.fc_2.weight, shape: torch.Size([100, 1024])\n",
      "name: encoder.encoder_layers.0.ff_layer.fc_2.bias, shape: torch.Size([100])\n",
      "name: encoder.encoder_layers.0.layer_norm_1.weight, shape: torch.Size([100])\n",
      "name: encoder.encoder_layers.0.layer_norm_1.bias, shape: torch.Size([100])\n",
      "name: encoder.encoder_layers.0.layer_norm_2.weight, shape: torch.Size([100])\n",
      "name: encoder.encoder_layers.0.layer_norm_2.bias, shape: torch.Size([100])\n",
      "name: encoder.encoder_layers.1.attention_layer.fc_q.weight, shape: torch.Size([100, 100])\n",
      "name: encoder.encoder_layers.1.attention_layer.fc_q.bias, shape: torch.Size([100])\n",
      "name: encoder.encoder_layers.1.attention_layer.fc_k.weight, shape: torch.Size([100, 100])\n",
      "name: encoder.encoder_layers.1.attention_layer.fc_k.bias, shape: torch.Size([100])\n",
      "name: encoder.encoder_layers.1.attention_layer.fc_v.weight, shape: torch.Size([100, 100])\n",
      "name: encoder.encoder_layers.1.attention_layer.fc_v.bias, shape: torch.Size([100])\n",
      "name: encoder.encoder_layers.1.attention_layer.fc_o.weight, shape: torch.Size([100, 100])\n",
      "name: encoder.encoder_layers.1.attention_layer.fc_o.bias, shape: torch.Size([100])\n",
      "name: encoder.encoder_layers.1.ff_layer.fc_1.weight, shape: torch.Size([1024, 100])\n",
      "name: encoder.encoder_layers.1.ff_layer.fc_1.bias, shape: torch.Size([1024])\n",
      "name: encoder.encoder_layers.1.ff_layer.fc_2.weight, shape: torch.Size([100, 1024])\n",
      "name: encoder.encoder_layers.1.ff_layer.fc_2.bias, shape: torch.Size([100])\n",
      "name: encoder.encoder_layers.1.layer_norm_1.weight, shape: torch.Size([100])\n",
      "name: encoder.encoder_layers.1.layer_norm_1.bias, shape: torch.Size([100])\n",
      "name: encoder.encoder_layers.1.layer_norm_2.weight, shape: torch.Size([100])\n",
      "name: encoder.encoder_layers.1.layer_norm_2.bias, shape: torch.Size([100])\n",
      "name: encoder.encoder_layers.2.attention_layer.fc_q.weight, shape: torch.Size([100, 100])\n",
      "name: encoder.encoder_layers.2.attention_layer.fc_q.bias, shape: torch.Size([100])\n",
      "name: encoder.encoder_layers.2.attention_layer.fc_k.weight, shape: torch.Size([100, 100])\n",
      "name: encoder.encoder_layers.2.attention_layer.fc_k.bias, shape: torch.Size([100])\n",
      "name: encoder.encoder_layers.2.attention_layer.fc_v.weight, shape: torch.Size([100, 100])\n",
      "name: encoder.encoder_layers.2.attention_layer.fc_v.bias, shape: torch.Size([100])\n",
      "name: encoder.encoder_layers.2.attention_layer.fc_o.weight, shape: torch.Size([100, 100])\n",
      "name: encoder.encoder_layers.2.attention_layer.fc_o.bias, shape: torch.Size([100])\n",
      "name: encoder.encoder_layers.2.ff_layer.fc_1.weight, shape: torch.Size([1024, 100])\n",
      "name: encoder.encoder_layers.2.ff_layer.fc_1.bias, shape: torch.Size([1024])\n",
      "name: encoder.encoder_layers.2.ff_layer.fc_2.weight, shape: torch.Size([100, 1024])\n",
      "name: encoder.encoder_layers.2.ff_layer.fc_2.bias, shape: torch.Size([100])\n",
      "name: encoder.encoder_layers.2.layer_norm_1.weight, shape: torch.Size([100])\n",
      "name: encoder.encoder_layers.2.layer_norm_1.bias, shape: torch.Size([100])\n",
      "name: encoder.encoder_layers.2.layer_norm_2.weight, shape: torch.Size([100])\n",
      "name: encoder.encoder_layers.2.layer_norm_2.bias, shape: torch.Size([100])\n",
      "name: encoder.norm.weight, shape: torch.Size([100])\n",
      "name: encoder.norm.bias, shape: torch.Size([100])\n",
      "name: fc.weight, shape: torch.Size([2, 100])\n",
      "name: fc.bias, shape: torch.Size([2])\n"
     ]
    }
   ],
   "source": [
    "for n, p in model.named_parameters():\n",
    "    print(f'name: {n}, shape: {p.shape}')"
   ]
  },
  {
   "cell_type": "code",
   "execution_count": 29,
   "metadata": {},
   "outputs": [],
   "source": [
    "def initialize_parameters(m):\n",
    "    if isinstance(m, nn.Embedding):\n",
    "        nn.init.normal_(m.weight, std = 0.02)\n",
    "    elif isinstance(m, nn.Linear):\n",
    "        nn.init.normal_(m.weight, std = 0.02)\n",
    "        nn.init.zeros_(m.bias)\n",
    "    elif isinstance(m, nn.LayerNorm):\n",
    "        nn.init.ones_(m.weight)\n",
    "        nn.init.zeros_(m.bias)"
   ]
  },
  {
   "cell_type": "code",
   "execution_count": 30,
   "metadata": {},
   "outputs": [
    {
     "data": {
      "text/plain": [
       "Transformer(\n",
       "  (tok_embedding): Embedding(25002, 100, padding_idx=1)\n",
       "  (pos_embedding): Embedding(250, 100)\n",
       "  (layer_norm): LayerNorm((100,), eps=1e-05, elementwise_affine=True)\n",
       "  (encoder): TransformerEncoder(\n",
       "    (encoder_layers): ModuleList(\n",
       "      (0): TransformerEncoderLayer(\n",
       "        (attention_layer): MultiHeadAttentionLayer(\n",
       "          (fc_q): Linear(in_features=100, out_features=100, bias=True)\n",
       "          (fc_k): Linear(in_features=100, out_features=100, bias=True)\n",
       "          (fc_v): Linear(in_features=100, out_features=100, bias=True)\n",
       "          (fc_o): Linear(in_features=100, out_features=100, bias=True)\n",
       "          (dropout): Dropout(p=0.1, inplace=False)\n",
       "        )\n",
       "        (ff_layer): FeedForwardLayer(\n",
       "          (fc_1): Linear(in_features=100, out_features=1024, bias=True)\n",
       "          (fc_2): Linear(in_features=1024, out_features=100, bias=True)\n",
       "          (dropout): Dropout(p=0.1, inplace=False)\n",
       "        )\n",
       "        (layer_norm_1): LayerNorm((100,), eps=1e-05, elementwise_affine=True)\n",
       "        (layer_norm_2): LayerNorm((100,), eps=1e-05, elementwise_affine=True)\n",
       "        (dropout): Dropout(p=0.1, inplace=False)\n",
       "      )\n",
       "      (1): TransformerEncoderLayer(\n",
       "        (attention_layer): MultiHeadAttentionLayer(\n",
       "          (fc_q): Linear(in_features=100, out_features=100, bias=True)\n",
       "          (fc_k): Linear(in_features=100, out_features=100, bias=True)\n",
       "          (fc_v): Linear(in_features=100, out_features=100, bias=True)\n",
       "          (fc_o): Linear(in_features=100, out_features=100, bias=True)\n",
       "          (dropout): Dropout(p=0.1, inplace=False)\n",
       "        )\n",
       "        (ff_layer): FeedForwardLayer(\n",
       "          (fc_1): Linear(in_features=100, out_features=1024, bias=True)\n",
       "          (fc_2): Linear(in_features=1024, out_features=100, bias=True)\n",
       "          (dropout): Dropout(p=0.1, inplace=False)\n",
       "        )\n",
       "        (layer_norm_1): LayerNorm((100,), eps=1e-05, elementwise_affine=True)\n",
       "        (layer_norm_2): LayerNorm((100,), eps=1e-05, elementwise_affine=True)\n",
       "        (dropout): Dropout(p=0.1, inplace=False)\n",
       "      )\n",
       "      (2): TransformerEncoderLayer(\n",
       "        (attention_layer): MultiHeadAttentionLayer(\n",
       "          (fc_q): Linear(in_features=100, out_features=100, bias=True)\n",
       "          (fc_k): Linear(in_features=100, out_features=100, bias=True)\n",
       "          (fc_v): Linear(in_features=100, out_features=100, bias=True)\n",
       "          (fc_o): Linear(in_features=100, out_features=100, bias=True)\n",
       "          (dropout): Dropout(p=0.1, inplace=False)\n",
       "        )\n",
       "        (ff_layer): FeedForwardLayer(\n",
       "          (fc_1): Linear(in_features=100, out_features=1024, bias=True)\n",
       "          (fc_2): Linear(in_features=1024, out_features=100, bias=True)\n",
       "          (dropout): Dropout(p=0.1, inplace=False)\n",
       "        )\n",
       "        (layer_norm_1): LayerNorm((100,), eps=1e-05, elementwise_affine=True)\n",
       "        (layer_norm_2): LayerNorm((100,), eps=1e-05, elementwise_affine=True)\n",
       "        (dropout): Dropout(p=0.1, inplace=False)\n",
       "      )\n",
       "    )\n",
       "    (norm): LayerNorm((100,), eps=1e-05, elementwise_affine=True)\n",
       "  )\n",
       "  (fc): Linear(in_features=100, out_features=2, bias=True)\n",
       "  (dropout): Dropout(p=0.1, inplace=False)\n",
       ")"
      ]
     },
     "execution_count": 30,
     "metadata": {},
     "output_type": "execute_result"
    }
   ],
   "source": [
    "model.apply(initialize_parameters)"
   ]
  },
  {
   "cell_type": "code",
   "execution_count": 31,
   "metadata": {
    "colab": {},
    "colab_type": "code",
    "id": "o3ZggI59f3KY"
   },
   "outputs": [],
   "source": [
    "glove = torchtext.experimental.vectors.GloVe(name = '6B',\n",
    "                                             dim = emb_dim)"
   ]
  },
  {
   "cell_type": "code",
   "execution_count": 32,
   "metadata": {
    "colab": {},
    "colab_type": "code",
    "id": "5BQXMqvKf41y"
   },
   "outputs": [],
   "source": [
    "def get_pretrained_embedding(initial_embedding, pretrained_vectors, vocab, unk_token):\n",
    "    \n",
    "    pretrained_embedding = torch.FloatTensor(initial_embedding.weight.clone()).detach()    \n",
    "    pretrained_vocab = pretrained_vectors.vectors.get_stoi()\n",
    "    \n",
    "    unk_tokens = []\n",
    "    \n",
    "    for idx, token in enumerate(vocab.itos):\n",
    "        if token in pretrained_vocab:\n",
    "            pretrained_vector = pretrained_vectors[token]\n",
    "            pretrained_embedding[idx] = pretrained_vector\n",
    "        else:\n",
    "            unk_tokens.append(token)\n",
    "        \n",
    "    return pretrained_embedding, unk_tokens"
   ]
  },
  {
   "cell_type": "code",
   "execution_count": 33,
   "metadata": {
    "colab": {},
    "colab_type": "code",
    "id": "xsG6yriEf8dA"
   },
   "outputs": [],
   "source": [
    "unk_token = '<unk>'\n",
    "\n",
    "pretrained_embedding, unk_tokens = get_pretrained_embedding(model.tok_embedding, glove, vocab, unk_token)"
   ]
  },
  {
   "cell_type": "code",
   "execution_count": 34,
   "metadata": {
    "colab": {
     "base_uri": "https://localhost:8080/",
     "height": 139
    },
    "colab_type": "code",
    "id": "aZWfRQnPf99e",
    "outputId": "b9fbce51-9abb-42a2-8e57-88f92f4d100b"
   },
   "outputs": [
    {
     "data": {
      "text/plain": [
       "tensor([[-0.0017, -0.0139, -0.0213,  ...,  0.0069,  0.0128, -0.0211],\n",
       "        [ 0.0157, -0.0071, -0.0066,  ..., -0.0251,  0.0035,  0.0269],\n",
       "        [-0.0382, -0.2449,  0.7281,  ..., -0.1459,  0.8278,  0.2706],\n",
       "        ...,\n",
       "        [-0.0288, -0.0316,  0.4083,  ...,  0.6288, -0.5348, -0.8080],\n",
       "        [-0.0152,  0.0155, -0.0168,  ..., -0.0409,  0.0031,  0.0127],\n",
       "        [-0.2612,  0.6821, -0.2295,  ..., -0.5306,  0.0863,  0.4852]])"
      ]
     },
     "execution_count": 34,
     "metadata": {},
     "output_type": "execute_result"
    }
   ],
   "source": [
    "model.tok_embedding.weight.data.copy_(pretrained_embedding)"
   ]
  },
  {
   "cell_type": "code",
   "execution_count": 35,
   "metadata": {},
   "outputs": [],
   "source": [
    "model.tok_embedding.weight.data[pad_idx] = torch.zeros(emb_dim)"
   ]
  },
  {
   "cell_type": "code",
   "execution_count": 36,
   "metadata": {
    "colab": {},
    "colab_type": "code",
    "id": "xBmTbzpRf-5x"
   },
   "outputs": [],
   "source": [
    "optimizer = optim.Adam(model.parameters())"
   ]
  },
  {
   "cell_type": "code",
   "execution_count": 37,
   "metadata": {
    "colab": {},
    "colab_type": "code",
    "id": "H-2Pqg5VgABR"
   },
   "outputs": [],
   "source": [
    "criterion = nn.CrossEntropyLoss()"
   ]
  },
  {
   "cell_type": "code",
   "execution_count": 38,
   "metadata": {
    "colab": {},
    "colab_type": "code",
    "id": "tj6Q8hfMgA5q"
   },
   "outputs": [],
   "source": [
    "device = torch.device('cuda' if torch.cuda.is_available() else 'cpu')"
   ]
  },
  {
   "cell_type": "code",
   "execution_count": 39,
   "metadata": {
    "colab": {},
    "colab_type": "code",
    "id": "HSK--Y91gB7W"
   },
   "outputs": [],
   "source": [
    "model = model.to(device)\n",
    "criterion = criterion.to(device)"
   ]
  },
  {
   "cell_type": "code",
   "execution_count": 40,
   "metadata": {
    "colab": {},
    "colab_type": "code",
    "id": "X8m3rLRZgDGZ"
   },
   "outputs": [],
   "source": [
    "def calculate_accuracy(predictions, labels):\n",
    "    top_predictions = predictions.argmax(1, keepdim = True)\n",
    "    correct = top_predictions.eq(labels.view_as(top_predictions)).sum()\n",
    "    accuracy = correct.float() / labels.shape[0]\n",
    "    return accuracy"
   ]
  },
  {
   "cell_type": "code",
   "execution_count": 41,
   "metadata": {
    "colab": {},
    "colab_type": "code",
    "id": "qONO5ahxgEbN"
   },
   "outputs": [],
   "source": [
    "def train(model, iterator, optimizer, criterion, device):\n",
    "    \n",
    "    epoch_loss = 0\n",
    "    epoch_acc = 0\n",
    "    \n",
    "    model.train()\n",
    "    \n",
    "    for labels, text in iterator:\n",
    "\n",
    "        labels = labels.to(device)\n",
    "        text = text.to(device)\n",
    "\n",
    "        optimizer.zero_grad()\n",
    "        \n",
    "        predictions, attention = model(text)\n",
    "        \n",
    "        loss = criterion(predictions, labels)\n",
    "        \n",
    "        acc = calculate_accuracy(predictions, labels)\n",
    "        \n",
    "        loss.backward()\n",
    "        \n",
    "        optimizer.step()\n",
    "        \n",
    "        epoch_loss += loss.item()\n",
    "        epoch_acc += acc.item()\n",
    "\n",
    "    return epoch_loss / len(iterator), epoch_acc / len(iterator)"
   ]
  },
  {
   "cell_type": "code",
   "execution_count": 42,
   "metadata": {
    "colab": {},
    "colab_type": "code",
    "id": "6g9SqCLBgFh3"
   },
   "outputs": [],
   "source": [
    "def evaluate(model, iterator, criterion, device):\n",
    "    \n",
    "    epoch_loss = 0\n",
    "    epoch_acc = 0\n",
    "    \n",
    "    model.eval()\n",
    "    \n",
    "    with torch.no_grad():\n",
    "    \n",
    "        for labels, text in iterator:\n",
    "\n",
    "            labels = labels.to(device)\n",
    "            text = text.to(device)\n",
    "            \n",
    "            predictions, attention = model(text)\n",
    "            \n",
    "            loss = criterion(predictions, labels)\n",
    "            \n",
    "            acc = calculate_accuracy(predictions, labels)\n",
    "\n",
    "            epoch_loss += loss.item()\n",
    "            epoch_acc += acc.item()\n",
    "        \n",
    "    return epoch_loss / len(iterator), epoch_acc / len(iterator)"
   ]
  },
  {
   "cell_type": "code",
   "execution_count": 43,
   "metadata": {
    "colab": {},
    "colab_type": "code",
    "id": "6UO5TMjqgGpT"
   },
   "outputs": [],
   "source": [
    "def epoch_time(start_time, end_time):\n",
    "    elapsed_time = end_time - start_time\n",
    "    elapsed_mins = int(elapsed_time / 60)\n",
    "    elapsed_secs = int(elapsed_time - (elapsed_mins * 60))\n",
    "    return elapsed_mins, elapsed_secs"
   ]
  },
  {
   "cell_type": "code",
   "execution_count": 44,
   "metadata": {
    "colab": {
     "base_uri": "https://localhost:8080/",
     "height": 537
    },
    "colab_type": "code",
    "id": "XN6rcPDmgIR5",
    "outputId": "586ca3f4-340c-4040-92b0-29f5e6d3fb54"
   },
   "outputs": [
    {
     "name": "stdout",
     "output_type": "stream",
     "text": [
      "Epoch: 01 | Epoch Time: 0m 25s\n",
      "\tTrain Loss: 0.604 | Train Acc: 64.21%\n",
      "\t Val. Loss: 0.457 |  Val. Acc: 78.76%\n",
      "Epoch: 02 | Epoch Time: 0m 25s\n",
      "\tTrain Loss: 0.364 | Train Acc: 84.16%\n",
      "\t Val. Loss: 0.355 |  Val. Acc: 84.73%\n",
      "Epoch: 03 | Epoch Time: 0m 25s\n",
      "\tTrain Loss: 0.270 | Train Acc: 89.23%\n",
      "\t Val. Loss: 0.384 |  Val. Acc: 84.55%\n",
      "Epoch: 04 | Epoch Time: 0m 25s\n",
      "\tTrain Loss: 0.206 | Train Acc: 92.15%\n",
      "\t Val. Loss: 0.355 |  Val. Acc: 86.63%\n",
      "Epoch: 05 | Epoch Time: 0m 25s\n",
      "\tTrain Loss: 0.150 | Train Acc: 94.58%\n",
      "\t Val. Loss: 0.435 |  Val. Acc: 86.43%\n",
      "Epoch: 06 | Epoch Time: 0m 25s\n",
      "\tTrain Loss: 0.101 | Train Acc: 96.54%\n",
      "\t Val. Loss: 0.455 |  Val. Acc: 86.67%\n",
      "Epoch: 07 | Epoch Time: 0m 25s\n",
      "\tTrain Loss: 0.084 | Train Acc: 97.17%\n",
      "\t Val. Loss: 0.505 |  Val. Acc: 84.09%\n",
      "Epoch: 08 | Epoch Time: 0m 25s\n",
      "\tTrain Loss: 0.066 | Train Acc: 97.82%\n",
      "\t Val. Loss: 0.508 |  Val. Acc: 86.05%\n",
      "Epoch: 09 | Epoch Time: 0m 25s\n",
      "\tTrain Loss: 0.041 | Train Acc: 98.78%\n",
      "\t Val. Loss: 0.605 |  Val. Acc: 86.25%\n",
      "Epoch: 10 | Epoch Time: 0m 25s\n",
      "\tTrain Loss: 0.035 | Train Acc: 99.01%\n",
      "\t Val. Loss: 0.681 |  Val. Acc: 85.79%\n"
     ]
    }
   ],
   "source": [
    "n_epochs = 10\n",
    "\n",
    "best_valid_loss = float('inf')\n",
    "\n",
    "for epoch in range(n_epochs):\n",
    "\n",
    "    start_time = time.monotonic()\n",
    "    \n",
    "    train_loss, train_acc = train(model, train_iterator, optimizer, criterion, device)\n",
    "    valid_loss, valid_acc = evaluate(model, valid_iterator, criterion, device)\n",
    "    \n",
    "    end_time = time.monotonic()\n",
    "\n",
    "    epoch_mins, epoch_secs = epoch_time(start_time, end_time)\n",
    "    \n",
    "    if valid_loss < best_valid_loss:\n",
    "        best_valid_loss = valid_loss\n",
    "        torch.save(model.state_dict(), 'transformer-model.pt')\n",
    "    \n",
    "    print(f'Epoch: {epoch+1:02} | Epoch Time: {epoch_mins}m {epoch_secs}s')\n",
    "    print(f'\\tTrain Loss: {train_loss:.3f} | Train Acc: {train_acc*100:.2f}%')\n",
    "    print(f'\\t Val. Loss: {valid_loss:.3f} |  Val. Acc: {valid_acc*100:.2f}%')"
   ]
  },
  {
   "cell_type": "code",
   "execution_count": 45,
   "metadata": {
    "colab": {
     "base_uri": "https://localhost:8080/",
     "height": 35
    },
    "colab_type": "code",
    "id": "lZdkI89ggJZj",
    "outputId": "4a36eb35-d243-4da7-f16b-c72af5787809"
   },
   "outputs": [
    {
     "name": "stdout",
     "output_type": "stream",
     "text": [
      "Test Loss: 0.371 | Test Acc: 85.62%\n"
     ]
    }
   ],
   "source": [
    "model.load_state_dict(torch.load('transformer-model.pt'))\n",
    "\n",
    "test_loss, test_acc = evaluate(model, test_iterator, criterion, device)\n",
    "\n",
    "print(f'Test Loss: {test_loss:.3f} | Test Acc: {test_acc*100:.2f}%')"
   ]
  },
  {
   "cell_type": "code",
   "execution_count": 46,
   "metadata": {
    "colab": {},
    "colab_type": "code",
    "id": "G6xX77_FigbW"
   },
   "outputs": [],
   "source": [
    "def predict_sentiment(tokenizer, vocab, model, device, sentence):\n",
    "    model.eval()\n",
    "    tokens = tokenizer.tokenize(sentence)\n",
    "    indexes = [vocab.stoi[token] for token in tokens]\n",
    "    tensor = torch.LongTensor(indexes).unsqueeze(-1).to(device)\n",
    "    prediction, attention = model(tensor)\n",
    "    probabilities = nn.functional.softmax(prediction, dim = -1)\n",
    "    pos_probability = probabilities.squeeze()[-1].item()\n",
    "    return pos_probability, attention"
   ]
  },
  {
   "cell_type": "code",
   "execution_count": 47,
   "metadata": {},
   "outputs": [],
   "source": [
    "def display_attention(tokens, attention):\n",
    "    \n",
    "    fig = plt.figure(figsize=(10,20))\n",
    "    \n",
    "    attention = attention.cpu().detach().squeeze(0).mean(0)\n",
    "    \n",
    "    ax = fig.add_subplot(1,1,1)\n",
    "    \n",
    "    ax.matshow(attention, cmap='bone')\n",
    "    \n",
    "    ax.set_xticks(range(len(tokens)))\n",
    "    ax.set_xticklabels(tokens, rotation=45)\n",
    "    ax.set_yticks(range(len(tokens)))\n",
    "    ax.set_yticklabels(tokens)"
   ]
  },
  {
   "cell_type": "code",
   "execution_count": 48,
   "metadata": {
    "colab": {
     "base_uri": "https://localhost:8080/",
     "height": 35
    },
    "colab_type": "code",
    "id": "ALLuVhn7m_OF",
    "outputId": "62cee726-84fd-4ee0-9d36-8ae54a71a356"
   },
   "outputs": [
    {
     "name": "stdout",
     "output_type": "stream",
     "text": [
      "0.0068605015985667706\n"
     ]
    }
   ],
   "source": [
    "sentence = 'the absolute worst movie of all time.'\n",
    "\n",
    "sentiment, attention = predict_sentiment(tokenizer, vocab, model, device, sentence)\n",
    "print(sentiment)"
   ]
  },
  {
   "cell_type": "code",
   "execution_count": 49,
   "metadata": {},
   "outputs": [
    {
     "data": {
      "image/png": "[encoded data removed]",
      "text/plain": [
       "<Figure size 720x1440 with 1 Axes>"
      ]
     },
     "metadata": {
      "needs_background": "light"
     },
     "output_type": "display_data"
    }
   ],
   "source": [
    "display_attention(tokenizer.tokenize(sentence), attention)"
   ]
  },
  {
   "cell_type": "code",
   "execution_count": 50,
   "metadata": {
    "colab": {
     "base_uri": "https://localhost:8080/",
     "height": 35
    },
    "colab_type": "code",
    "id": "aLqml9PenBMp",
    "outputId": "1614cf67-7583-4cb6-ab17-09ea8d1774a6"
   },
   "outputs": [
    {
     "name": "stdout",
     "output_type": "stream",
     "text": [
      "0.991644561290741\n"
     ]
    }
   ],
   "source": [
    "sentence = 'one of the greatest films i have ever seen in my life.'\n",
    "\n",
    "sentiment, attention = predict_sentiment(tokenizer, vocab, model, device, sentence)\n",
    "print(sentiment)"
   ]
  },
  {
   "cell_type": "code",
   "execution_count": 51,
   "metadata": {},
   "outputs": [
    {
     "data": {
      "image/png": "[encoded data removed]",
      "text/plain": [
       "<Figure size 720x1440 with 1 Axes>"
      ]
     },
     "metadata": {
      "needs_background": "light"
     },
     "output_type": "display_data"
    }
   ],
   "source": [
    "display_attention(tokenizer.tokenize(sentence), attention)"
   ]
  },
  {
   "cell_type": "code",
   "execution_count": 52,
   "metadata": {
    "colab": {
     "base_uri": "https://localhost:8080/",
     "height": 35
    },
    "colab_type": "code",
    "id": "MyjsYDeJnCui",
    "outputId": "d87ccbee-9e91-4e64-fb2b-aaaf474f12e6"
   },
   "outputs": [
    {
     "name": "stdout",
     "output_type": "stream",
     "text": [
      "0.051942430436611176\n"
     ]
    }
   ],
   "source": [
    "sentence = \"i thought it was going to be one of the greatest films i have ever seen in my life, \\\n",
    "but it was actually the absolute worst movie of all time.\"\n",
    "\n",
    "sentiment, attention = predict_sentiment(tokenizer, vocab, model, device, sentence)\n",
    "print(sentiment)"
   ]
  },
  {
   "cell_type": "code",
   "execution_count": 53,
   "metadata": {},
   "outputs": [
    {
     "data": {
      "image/png": "[encoded data removed]",
      "text/plain": [
       "<Figure size 720x1440 with 1 Axes>"
      ]
     },
     "metadata": {
      "needs_background": "light"
     },
     "output_type": "display_data"
    }
   ],
   "source": [
    "display_attention(tokenizer.tokenize(sentence), attention)"
   ]
  },
  {
   "cell_type": "code",
   "execution_count": 54,
   "metadata": {
    "colab": {
     "base_uri": "https://localhost:8080/",
     "height": 35
    },
    "colab_type": "code",
    "id": "u1ezlkkknE2M",
    "outputId": "1ba5ed25-cc74-4abc-ea51-f15798c45023"
   },
   "outputs": [
    {
     "name": "stdout",
     "output_type": "stream",
     "text": [
      "0.06497201323509216\n"
     ]
    }
   ],
   "source": [
    "sentence = \"i thought it was going to be the absolute worst movie of all time, \\\n",
    "but it was actually one of the greatest films i have ever seen in my life.\"\n",
    "\n",
    "sentiment, attention = predict_sentiment(tokenizer, vocab, model, device, sentence)\n",
    "print(sentiment)"
   ]
  },
  {
   "cell_type": "code",
   "execution_count": 55,
   "metadata": {},
   "outputs": [
    {
     "data": {
      "image/png": "[encoded data removed]",
      "text/plain": [
       "<Figure size 720x1440 with 1 Axes>"
      ]
     },
     "metadata": {
      "needs_background": "light"
     },
     "output_type": "display_data"
    }
   ],
   "source": [
    "display_attention(tokenizer.tokenize(sentence), attention)"
   ]
  },
  {
   "cell_type": "code",
   "execution_count": 56,
   "metadata": {},
   "outputs": [],
   "source": [
    "def count_pos_neg_token(token, tokenizer, data):\n",
    "    n_examples = {'pos': 0, 'neg': 0}\n",
    "    n_count = {'pos': 0, 'neg': 0}\n",
    "    for label, text in data.data:\n",
    "        tokens = tokenizer.tokenize(text)\n",
    "        count = tokens.count(token)\n",
    "        if count > 0:\n",
    "            n_examples[label] += 1\n",
    "            n_count[label] += count\n",
    "    return n_examples['pos'], n_count['pos'], n_examples['neg'], n_count['neg']"
   ]
  },
  {
   "cell_type": "code",
   "execution_count": 57,
   "metadata": {},
   "outputs": [
    {
     "name": "stdout",
     "output_type": "stream",
     "text": [
      "\"worst\" appears in 106 positive examples, 111 times in total.\n",
      "\"worst\" appears in 1246 negative examples, 1457 times in total.\n"
     ]
    }
   ],
   "source": [
    "token = 'worst'\n",
    "\n",
    "n_pos, count_pos, n_neg, count_neg = count_pos_neg_token(token, tokenizer, train_data)\n",
    "\n",
    "print(f'\"{token}\" appears in {n_pos} positive examples, {count_pos} times in total.')\n",
    "print(f'\"{token}\" appears in {n_neg} negative examples, {count_neg} times in total.')"
   ]
  },
  {
   "cell_type": "code",
   "execution_count": 58,
   "metadata": {},
   "outputs": [
    {
     "name": "stdout",
     "output_type": "stream",
     "text": [
      "\"greatest\" appears in 242 positive examples, 264 times in total.\n",
      "\"greatest\" appears in 86 negative examples, 91 times in total.\n"
     ]
    }
   ],
   "source": [
    "token = 'greatest'\n",
    "\n",
    "n_pos, count_pos, n_neg, count_neg = count_pos_neg_token(token, tokenizer, train_data)\n",
    "\n",
    "print(f'\"{token}\" appears in {n_pos} positive examples, {count_pos} times in total.')\n",
    "print(f'\"{token}\" appears in {n_neg} negative examples, {count_neg} times in total.')"
   ]
  }
 ],
 "metadata": {
  "accelerator": "GPU",
  "colab": {
   "machine_shape": "hm",
   "name": "scratchpad",
   "provenance": []
  },
  "kernelspec": {
   "display_name": "Python 3",
   "language": "python",
   "name": "python3"
  },
  "language_info": {
   "codemirror_mode": {
    "name": "ipython",
    "version": 3
   },
   "file_extension": ".py",
   "mimetype": "text/x-python",
   "name": "python",
   "nbconvert_exporter": "python",
   "pygments_lexer": "ipython3",
   "version": "3.8.3"
  }
 },
 "nbformat": 4,
 "nbformat_minor": 1
}
